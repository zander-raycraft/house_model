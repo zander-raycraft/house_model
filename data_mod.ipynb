{
 "cells": [
  {
   "cell_type": "code",
   "execution_count": 1,
   "id": "258991c5-550a-4e34-8583-4feb934ca095",
   "metadata": {},
   "outputs": [],
   "source": [
    "import numpy as np\n",
    "import pandas as pd\n",
    "import matplotlib.pyplot as plt\n",
    "import seaborn as sb\n",
    "import sklearn as sk\n",
    "import warnings"
   ]
  },
  {
   "cell_type": "code",
   "execution_count": 2,
   "id": "470c4a4e-16c5-4ae8-b1f8-2f26ea5605c3",
   "metadata": {},
   "outputs": [],
   "source": [
    "'''\n",
    "@breif: This function loads in the excel file and returns it as a ditionary of pd.DataFrames, the reason I am doing this instead of just directly calling read_excel() is\n",
    "        because I am trying to supress unecessary warnings from the openpyxl library. These warnings are not important because they just reflect that some of the custom macros \n",
    "        in the read in excel file are not supported by openpyxl; openpyxl itself is important because it help parse multi sheet excel sheets into its pages so that it can be\n",
    "        converted into a dictionary\n",
    "\n",
    "@params: data_path -> the path to the .xlsx file, this is the input file to be processed\n",
    "@returns: dict -> this is the dictionary where the keys are page names and the values are the pd.DataFrame for that page in the excel file\n",
    "'''\n",
    "def load_excel(data_path) -> dict:\n",
    "    with warnings.catch_warnings():\n",
    "        warnings.filterwarnings(action='ignore', category=UserWarning, module='openpyxl')\n",
    "        DICT_DF = pd.read_excel(data_path, sheet_name=None)\n",
    "        return DICT_DF\n",
    "\n",
    "dict_df = load_excel('data/data_pipe.xlsx')\n"
   ]
  },
  {
   "cell_type": "markdown",
   "id": "e76eabee-ae15-4913-a54f-f96badde481f",
   "metadata": {},
   "source": [
    "<div>\n",
    "    <h1 align='center'> 🧹 Data Cleaning 🧽 </h1>\n",
    "</div>\n",
    "\n",
    "---------\n",
    "\n",
    "## Steps:\n",
    "    1) refine data: remove all unecessary values from the data"
   ]
  },
  {
   "cell_type": "code",
   "execution_count": 3,
   "id": "31b71919-cd10-4b7b-aa60-96b263575921",
   "metadata": {},
   "outputs": [],
   "source": [
    "'''\n",
    "@breif: This function clears out the rows and column from a DF, which lets us get rid of the filler, which does that based on condition, and iterates over the whole dict\n",
    "\n",
    "@params: df -> pd.DataFrame, the dataframe (or excel sheet) to be cleaned\n",
    "@returns: pd.DataFrane -> This is the newly cleaned or modified datafile\n",
    "\n",
    "'''\n",
    "def drop_null(dit_df: dict) -> dict:\n",
    "    temp_dict = dict_df\n",
    "    for name, frame in temp_dict.items():\n",
    "        mod = frame\n",
    "        mod.dropna(axis=0, how='all', inplace=True)\n",
    "        mod.dropna(axis=1, how='all', inplace=True)\n",
    "        frame = mod\n",
    "    return temp_dict\n",
    "\n",
    "dict_df = drop_null(dict_df)"
   ]
  }
 ],
 "metadata": {
  "kernelspec": {
   "display_name": "hosue_kernel",
   "language": "python",
   "name": "house_price"
  },
  "language_info": {
   "codemirror_mode": {
    "name": "ipython",
    "version": 3
   },
   "file_extension": ".py",
   "mimetype": "text/x-python",
   "name": "python",
   "nbconvert_exporter": "python",
   "pygments_lexer": "ipython3",
   "version": "3.12.9"
  }
 },
 "nbformat": 4,
 "nbformat_minor": 5
}
